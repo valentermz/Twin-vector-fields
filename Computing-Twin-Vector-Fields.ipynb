{
 "cells": [
  {
   "cell_type": "markdown",
   "metadata": {
    "deletable": true,
    "editable": true
   },
   "source": [
    "# Computation of Twins for Quadratic Vector Fields on $\\mathbb{C}^2$\n",
    "\n",
    "## Introduction\n",
    "\n",
    "Let $v=P(x,y)\\frac{\\partial}{\\partial x}+Q(x,y)\\frac{\\partial}{\\partial y}$ be a quadratic vector field on $\\mathbb{C}^2$. In the generic case $v$ has 4 isolated singularities, we consider only such vector fields.\n",
    "\n",
    "### Theorem:\n",
    "\n",
    "Given a generic quadratic field $v$, there exists a unique quadratic vector field $v^{t}$ which has the same singular set as $v$, at each singular point the same spectrum, yet the vector fields are different. We call these *\"twin vector fields\"*.\n",
    "\n",
    "Below we compute $v^{t}$ in terms of the polynomials $P$ and $Q$ defining $v$.\n",
    "\n",
    "## Preliminaries\n",
    "\n",
    "By an affine change of coordinates we may assume $v$ has singularities at $p_0,p_1,p_2$ given by $(0,0)$, $(1,0)$ and $(0,1)$. The position of the fourth singularity $p_3$ is unknown, but may be recovered from the Euler-Jacobi formulae.\n",
    "\n",
    "We denote by $t_k$ and $d_k$ the trace and determinant of the linear part of $v$ at $p_k$."
   ]
  },
  {
   "cell_type": "markdown",
   "metadata": {
    "deletable": true,
    "editable": true
   },
   "source": [
    "### Variables"
   ]
  },
  {
   "cell_type": "code",
   "execution_count": 1,
   "metadata": {
    "collapsed": false,
    "deletable": true,
    "editable": true
   },
   "outputs": [],
   "source": [
    "# Coordinates on C2\n",
    "var('x y')\n",
    "\n",
    "# Parameters defining P, Q\n",
    "for j in range(6):\n",
    "    var('a{}'.format(j))\n",
    "    \n",
    "# Traces\n",
    "t = ['']*3\n",
    "\n",
    "# Determinants\n",
    "d = ['']*3\n",
    "\n",
    "# Auxiliary variables\n",
    "m0, m1, m2, m3 = var('m0 m1 m2 m3')"
   ]
  },
  {
   "cell_type": "markdown",
   "metadata": {
    "deletable": true,
    "editable": true
   },
   "source": [
    "### Definitions"
   ]
  },
  {
   "cell_type": "code",
   "execution_count": 2,
   "metadata": {
    "collapsed": false,
    "deletable": true,
    "editable": true
   },
   "outputs": [],
   "source": [
    "P = a0*x^2 + a1*x*y + a2*y^2 - a0*x - a2*y\n",
    "Q = a3*x^2 + a4*x*y + a5*y^2 - a3*x - a5*y\n",
    "\n",
    "v = (P, Q)\n",
    "\n",
    "Sing = [[x==0, y==0], [x==1, y==0], [x==0, y==1]]\n",
    "\n",
    "Dv = matrix([\n",
    "    (diff(P, x), diff(P, y)),\n",
    "    (diff(Q, x), diff(Q, y))\n",
    "])\n",
    "\n",
    "for k in range(3):\n",
    "    t[k] = Dv.subs(Sing[k]).trace()\n",
    "    d[k] = Dv.subs(Sing[k]).determinant()"
   ]
  },
  {
   "cell_type": "markdown",
   "metadata": {
    "deletable": true,
    "editable": true
   },
   "source": [
    "### The trick\n",
    "\n",
    "Suppose $v' = (P', Q')$ has the same singular locus as $v$. By Max Noether's theorem there exist complex numbers $m_0,\\ldots,m_3$ such that\n",
    "\n",
    "$\\pmatrix{\n",
    "    P' \\\\\n",
    "    Q' \\\\\n",
    "} \n",
    "= \\pmatrix{\n",
    "    m_0 & m_1 \\\\\n",
    "    m_2 & m_3 \\\\\n",
    "} \n",
    "\\pmatrix{\n",
    "    P \\\\\n",
    "    Q \\\\\n",
    "}$.\n",
    "\n",
    "Thus $v$ and $v'$ will be twins if and only if the following system of equations is satisfied:\n",
    "\n",
    "$\\operatorname{tr}MDv(p_k) = t_k, \\text{ for } k=1,2,3, \\quad\n",
    "\\operatorname{det}M = 1$."
   ]
  },
  {
   "cell_type": "code",
   "execution_count": 3,
   "metadata": {
    "collapsed": false,
    "deletable": true,
    "editable": true
   },
   "outputs": [],
   "source": [
    "M = matrix([(m0, m1), (m2, m3)])\n",
    "\n",
    "lin_syst = ['']*3\n",
    "\n",
    "for k in range(3):\n",
    "    lin_syst[k] = (M*Dv).subs(Sing[k]).trace() - t[k]\n",
    "    \n",
    "quad_eq = M.determinant() - 1"
   ]
  },
  {
   "cell_type": "markdown",
   "metadata": {
    "deletable": true,
    "editable": true
   },
   "source": [
    "We will first solve the linear system with respect to $m_1,m_2,m_3$, and then we solve the remaining quadratic equation on $m_0$.\n",
    "\n",
    "### The linear system"
   ]
  },
  {
   "cell_type": "code",
   "execution_count": 4,
   "metadata": {
    "collapsed": false,
    "deletable": true,
    "editable": true
   },
   "outputs": [
    {
     "name": "stdout",
     "output_type": "stream",
     "text": [
      "m1 == -((2*a0 - a1)*m0 - 2*a0 + a1)/(2*a3 - a4) \n",
      "\n",
      "m2 == (a1*a3*a4 - a0*a4^2 - 2*(a1*a3 - a0*a4)*a5 - (a1*a3*a4 - a0*a4^2 - 2*(a1*a3 - a0*a4)*a5)*m0)/(2*a2*a3*a4 - a2*a4^2 - (2*a1*a3 - a1*a4)*a5) \n",
      "\n",
      "m3 == (a0*a1*a4 - (2*a0*a4 + a4^2)*a2 - (a1^2 - 2*(a1 + a4)*a2)*a3 - (2*a1*a3 - a1*a4)*a5 - (a0*a1*a4 - 2*a0*a2*a4 - (a1^2 - 2*a1*a2)*a3)*m0)/(2*a2*a3*a4 - a2*a4^2 - (2*a1*a3 - a1*a4)*a5) \n",
      "\n"
     ]
    }
   ],
   "source": [
    "lin_syst_sol = solve(lin_syst, [m1, m2, m3])[0]\n",
    "\n",
    "for k in range(3):\n",
    "    print lin_syst_sol[k], '\\n'"
   ]
  },
  {
   "cell_type": "markdown",
   "metadata": {
    "deletable": true,
    "editable": true
   },
   "source": [
    "### The quadratic equation"
   ]
  },
  {
   "cell_type": "code",
   "execution_count": 5,
   "metadata": {
    "collapsed": false,
    "deletable": true,
    "editable": true
   },
   "outputs": [
    {
     "data": {
      "text/plain": [
       "(2*a1^2*a3^2*m0 - 4*a1*a2*a3^2*m0 - 4*a0*a1*a3*a4*m0 + 4*a0*a2*a3*a4*m0 + 2*a1*a2*a3*a4*m0 + 2*a0^2*a4^2*m0 - 2*a0*a2*a4^2*m0 + 4*a0*a1*a3*a5*m0 - 2*a1^2*a3*a5*m0 - 4*a0^2*a4*a5*m0 + 2*a0*a1*a4*a5*m0 + 2*a0*a1*a3*a4 - a1^2*a3*a4 + 4*a2*a3^2*a4 - 2*a0^2*a4^2 + a0*a1*a4^2 - 4*a2*a3*a4^2 + a2*a4^3 - 4*a0*a1*a3*a5 + 2*a1^2*a3*a5 - 4*a1*a3^2*a5 + 4*a0^2*a4*a5 - 2*a0*a1*a4*a5 + 4*a1*a3*a4*a5 - a1*a4^2*a5)*(m0 - 1)/((a2*a4 - a1*a5)*(2*a3 - a4)^2)"
      ]
     },
     "execution_count": 5,
     "metadata": {},
     "output_type": "execute_result"
    }
   ],
   "source": [
    "quad_eq = quad_eq.subs(lin_syst_sol).simplify_rational().factor()\n",
    "quad_eq"
   ]
  },
  {
   "cell_type": "markdown",
   "metadata": {
    "deletable": true,
    "editable": true
   },
   "source": [
    "Note how the denominator has a factor of $m_0-1$."
   ]
  },
  {
   "cell_type": "code",
   "execution_count": 6,
   "metadata": {
    "collapsed": false,
    "deletable": true,
    "editable": true
   },
   "outputs": [
    {
     "data": {
      "text/plain": [
       "m0 == -1/2*(a2*a4^3 - (2*a0^2 - a0*a1 + 4*a2*a3)*a4^2 + (4*a2*a3^2 + (2*a0*a1 - a1^2)*a3)*a4 - (4*a1*a3^2 + a1*a4^2 + 2*(2*a0*a1 - a1^2)*a3 - 2*(2*a0^2 - a0*a1 + 2*a1*a3)*a4)*a5)/((a1^2 - 2*a1*a2)*a3^2 - (2*a0*a1 - (2*a0 + a1)*a2)*a3*a4 + (a0^2 - a0*a2)*a4^2 + ((2*a0*a1 - a1^2)*a3 - (2*a0^2 - a0*a1)*a4)*a5)"
      ]
     },
     "execution_count": 6,
     "metadata": {},
     "output_type": "execute_result"
    }
   ],
   "source": [
    "quad_eq_sol = solve(quad_eq.numerator()/(m0 - 1), m0)[0]\n",
    "quad_eq_sol"
   ]
  },
  {
   "cell_type": "markdown",
   "metadata": {
    "deletable": true,
    "editable": true
   },
   "source": [
    "## The final expressions"
   ]
  },
  {
   "cell_type": "code",
   "execution_count": 7,
   "metadata": {
    "collapsed": false,
    "deletable": true,
    "editable": true,
    "scrolled": false
   },
   "outputs": [
    {
     "name": "stdout",
     "output_type": "stream",
     "text": [
      "m0 = -1/2*(2*a0*a1*a3*a4 - a1^2*a3*a4 + 4*a2*a3^2*a4 - 2*a0^2*a4^2 + a0*a1*a4^2 - 4*a2*a3*a4^2 + a2*a4^3 - 4*a0*a1*a3*a5 + 2*a1^2*a3*a5 - 4*a1*a3^2*a5 + 4*a0^2*a4*a5 - 2*a0*a1*a4*a5 + 4*a1*a3*a4*a5 - a1*a4^2*a5)/((a1*a3 - 2*a2*a3 - a0*a4 + a2*a4 + 2*a0*a5 - a1*a5)*(a1*a3 - a0*a4)) \n",
      "\n",
      "m1 = 1/2*(a1^2*a3 - 2*a1*a2*a3 - a0*a1*a4 + 2*a0*a2*a4 + 2*a2*a3*a4 - a2*a4^2 - 2*a1*a3*a5 + a1*a4*a5)*(2*a0 - a1)/((a1*a3 - 2*a2*a3 - a0*a4 + a2*a4 + 2*a0*a5 - a1*a5)*(a1*a3 - a0*a4)) \n",
      "\n",
      "m2 = 1/2*(a1^2*a3 - 2*a1*a2*a3 - a0*a1*a4 + 2*a0*a2*a4 + 2*a2*a3*a4 - a2*a4^2 - 2*a1*a3*a5 + a1*a4*a5)*(a4 - 2*a5)/((a1*a3 - 2*a2*a3 - a0*a4 + a2*a4 + 2*a0*a5 - a1*a5)*(a2*a4 - a1*a5)) \n",
      "\n",
      "m3 = -1/2*(a1^3*a3 - 4*a1^2*a2*a3 + 4*a1*a2^2*a3 - a0*a1^2*a4 + 4*a0*a1*a2*a4 - 4*a0*a2^2*a4 + 2*a0*a2*a4^2 - a1*a2*a4^2 - 2*a0*a1*a4*a5 + a1^2*a4*a5 - 4*a0*a2*a4*a5 + 2*a1*a2*a4*a5 + 4*a0*a1*a5^2 - 2*a1^2*a5^2)/((a1*a3 - 2*a2*a3 - a0*a4 + a2*a4 + 2*a0*a5 - a1*a5)*(a2*a4 - a1*a5)) \n",
      "\n"
     ]
    }
   ],
   "source": [
    "m0_final = m0.subs(quad_eq_sol).simplify_rational().factor()\n",
    "m1_final = m1.subs(lin_syst_sol).subs(quad_eq_sol).simplify_rational().factor()\n",
    "m2_final = m2.subs(lin_syst_sol).subs(quad_eq_sol).simplify_rational().factor()\n",
    "m3_final = m3.subs(lin_syst_sol).subs(quad_eq_sol).simplify_rational().factor()\n",
    "\n",
    "for k in range(4):\n",
    "    print 'm{} ='.format(k), eval('m' + str(k) + '_final'), '\\n'"
   ]
  },
  {
   "cell_type": "markdown",
   "metadata": {
    "deletable": true,
    "editable": true
   },
   "source": [
    "### Sanity check\n",
    "\n",
    "We obtain a new vector field $v^t = P^t\\frac{\\partial}{\\partial x} + Q^t\\frac{\\partial}{\\partial y}$. Below we verify that what we obtain does indeed have the same spectra as $v$."
   ]
  },
  {
   "cell_type": "code",
   "execution_count": 8,
   "metadata": {
    "collapsed": false,
    "deletable": true,
    "editable": true
   },
   "outputs": [
    {
     "name": "stdout",
     "output_type": "stream",
     "text": [
      "0\n",
      "0\n",
      "0\n",
      "0\n",
      "0\n",
      "0\n"
     ]
    }
   ],
   "source": [
    "Pt = m0_final*P + m1_final*Q\n",
    "Qt = m2_final*P + m3_final*Q\n",
    "\n",
    "Dvt = matrix([\n",
    "    (diff(Pt, x), diff(Pt, y)),\n",
    "    (diff(Qt, x), diff(Qt, y))\n",
    "])\n",
    "\n",
    "# Thse should print only zeroes\n",
    "for k in range(3):\n",
    "    print (Dvt.subs(Sing[k]).trace() - t[k]).simplify_rational()\n",
    "    print (Dvt.subs(Sing[k]).determinant() - d[k]).simplify_rational()"
   ]
  },
  {
   "cell_type": "markdown",
   "metadata": {},
   "source": [
    "## Export final expressions for $P^t$, $Q^t$"
   ]
  },
  {
   "cell_type": "code",
   "execution_count": 9,
   "metadata": {
    "collapsed": false
   },
   "outputs": [],
   "source": [
    "Pt = Pt.simplify_rational().factor()\n",
    "Qt = Qt.simplify_rational().factor()"
   ]
  },
  {
   "cell_type": "code",
   "execution_count": 10,
   "metadata": {
    "collapsed": false
   },
   "outputs": [
    {
     "name": "stdout",
     "output_type": "stream",
     "text": [
      "1/2*(2*a0*a1^2*a3^2*x^2 - a1^3*a3^2*x^2 - 4*a0*a1*a2*a3^2*x^2 + 2*a1^2*a2*a3^2*x^2 - 4*a0^2*a1*a3*a4*x^2 + 2*a0*a1^2*a3*a4*x^2 + 4*a0^2*a2*a3*a4*x^2 - 2*a0*a1*a2*a3*a4*x^2 - 2*a1*a2*a3^2*a4*x^2 + 2*a0^3*a4^2*x^2 - a0^2*a1*a4^2*x^2 + 2*a0*a2*a3*a4^2*x^2 + a1*a2*a3*a4^2*x^2 - a0*a2*a4^3*x^2 + 4*a0^2*a1*a3*a5*x^2 - 2*a0*a1^2*a3*a5*x^2 + 2*a1^2*a3^2*a5*x^2 - 4*a0^3*a4*a5*x^2 + 2*a0^2*a1*a4*a5*x^2 - 2*a0*a1*a3*a4*a5*x^2 - a1^2*a3*a4*a5*x^2 + a0*a1*a4^2*a5*x^2 - 4*a0*a1*a2*a3*a4*x*y + 2*a1^2*a2*a3*a4*x*y - 4*a1*a2*a3^2*a4*x*y + 4*a0^2*a2*a4^2*x*y - 2*a0*a1*a2*a4^2*x*y + 4*a0*a2*a3*a4^2*x*y + 2*a1*a2*a3*a4^2*x*y - 2*a0*a2*a4^3*x*y + 4*a0*a1^2*a3*a5*x*y - 2*a1^3*a3*a5*x*y + 4*a1^2*a3^2*a5*x*y - 4*a0^2*a1*a4*a5*x*y + 2*a0*a1^2*a4*a5*x*y - 4*a0*a1*a3*a4*a5*x*y - 2*a1^2*a3*a4*a5*x*y + 2*a0*a1*a4^2*a5*x*y - 2*a0*a1*a2*a3*a4*y^2 + a1^2*a2*a3*a4*y^2 - 4*a2^2*a3^2*a4*y^2 + 2*a0^2*a2*a4^2*y^2 - a0*a1*a2*a4^2*y^2 + 4*a2^2*a3*a4^2*y^2 - a2^2*a4^3*y^2 + 2*a0*a1^2*a3*a5*y^2 - a1^3*a3*a5*y^2 + 4*a1*a2*a3^2*a5*y^2 - 2*a0^2*a1*a4*a5*y^2 + a0*a1^2*a4*a5*y^2 + 4*a0*a2*a3*a4*a5*y^2 - 6*a1*a2*a3*a4*a5*y^2 - 2*a0*a2*a4^2*a5*y^2 + 2*a1*a2*a4^2*a5*y^2 - 4*a0*a1*a3*a5^2*y^2 + 2*a1^2*a3*a5^2*y^2 + 2*a0*a1*a4*a5^2*y^2 - a1^2*a4*a5^2*y^2 - 2*a0*a1^2*a3^2*x + a1^3*a3^2*x + 4*a0*a1*a2*a3^2*x - 2*a1^2*a2*a3^2*x + 4*a0^2*a1*a3*a4*x - 2*a0*a1^2*a3*a4*x - 4*a0^2*a2*a3*a4*x + 2*a0*a1*a2*a3*a4*x + 2*a1*a2*a3^2*a4*x - 2*a0^3*a4^2*x + a0^2*a1*a4^2*x - 2*a0*a2*a3*a4^2*x - a1*a2*a3*a4^2*x + a0*a2*a4^3*x - 4*a0^2*a1*a3*a5*x + 2*a0*a1^2*a3*a5*x - 2*a1^2*a3^2*a5*x + 4*a0^3*a4*a5*x - 2*a0^2*a1*a4*a5*x + 2*a0*a1*a3*a4*a5*x + a1^2*a3*a4*a5*x - a0*a1*a4^2*a5*x + 2*a0*a1*a2*a3*a4*y - a1^2*a2*a3*a4*y + 4*a2^2*a3^2*a4*y - 2*a0^2*a2*a4^2*y + a0*a1*a2*a4^2*y - 4*a2^2*a3*a4^2*y + a2^2*a4^3*y - 2*a0*a1^2*a3*a5*y + a1^3*a3*a5*y - 4*a1*a2*a3^2*a5*y + 2*a0^2*a1*a4*a5*y - a0*a1^2*a4*a5*y - 4*a0*a2*a3*a4*a5*y + 6*a1*a2*a3*a4*a5*y + 2*a0*a2*a4^2*a5*y - 2*a1*a2*a4^2*a5*y + 4*a0*a1*a3*a5^2*y - 2*a1^2*a3*a5^2*y - 2*a0*a1*a4*a5^2*y + a1^2*a4*a5^2*y)/((a1*a3 - 2*a2*a3 - a0*a4 + a2*a4 + 2*a0*a5 - a1*a5)*(a1*a3 - a0*a4))\n"
     ]
    }
   ],
   "source": [
    "print Pt"
   ]
  },
  {
   "cell_type": "code",
   "execution_count": 11,
   "metadata": {
    "collapsed": false
   },
   "outputs": [
    {
     "name": "stdout",
     "output_type": "stream",
     "text": [
      "-1/2*(a1^3*a3^2*x^2 - 4*a1^2*a2*a3^2*x^2 + 4*a1*a2^2*a3^2*x^2 - 2*a0*a1^2*a3*a4*x^2 + 6*a0*a1*a2*a3*a4*x^2 - 4*a0*a2^2*a3*a4*x^2 + a0^2*a1*a4^2*x^2 - 2*a0^2*a2*a4^2*x^2 - a1*a2*a3*a4^2*x^2 + a0*a2*a4^3*x^2 + 2*a0*a1^2*a3*a5*x^2 - 4*a0*a1*a2*a3*a5*x^2 - 2*a0^2*a1*a4*a5*x^2 + 4*a0^2*a2*a4*a5*x^2 + a1^2*a3*a4*a5*x^2 + 2*a1*a2*a3*a4*a5*x^2 - a0*a1*a4^2*a5*x^2 - 2*a0*a2*a4^2*a5*x^2 - 2*a1^2*a3*a5^2*x^2 + 2*a0*a1*a4*a5^2*x^2 - 2*a1^2*a2*a3*a4*x*y + 4*a1*a2^2*a3*a4*x*y + 2*a0*a1*a2*a4^2*x*y - 4*a0*a2^2*a4^2*x*y - 2*a1*a2*a3*a4^2*x*y + 2*a0*a2*a4^3*x*y + 2*a1^3*a3*a5*x*y - 4*a1^2*a2*a3*a5*x*y - 2*a0*a1^2*a4*a5*x*y + 4*a0*a1*a2*a4*a5*x*y + 2*a1^2*a3*a4*a5*x*y + 4*a1*a2*a3*a4*a5*x*y - 2*a0*a1*a4^2*a5*x*y - 4*a0*a2*a4^2*a5*x*y - 4*a1^2*a3*a5^2*x*y + 4*a0*a1*a4*a5^2*x*y - a1^2*a2*a3*a4*y^2 + 2*a1*a2^2*a3*a4*y^2 + a0*a1*a2*a4^2*y^2 - 2*a0*a2^2*a4^2*y^2 - 2*a2^2*a3*a4^2*y^2 + a2^2*a4^3*y^2 + a1^3*a3*a5*y^2 - 2*a1^2*a2*a3*a5*y^2 - a0*a1^2*a4*a5*y^2 + 2*a0*a1*a2*a4*a5*y^2 + 2*a1*a2*a3*a4*a5*y^2 + 4*a2^2*a3*a4*a5*y^2 + 2*a0*a2*a4^2*a5*y^2 - 2*a1*a2*a4^2*a5*y^2 - 2*a2^2*a4^2*a5*y^2 - 4*a1*a2*a3*a5^2*y^2 - 2*a0*a1*a4*a5^2*y^2 + a1^2*a4*a5^2*y^2 - 4*a0*a2*a4*a5^2*y^2 + 4*a1*a2*a4*a5^2*y^2 + 4*a0*a1*a5^3*y^2 - 2*a1^2*a5^3*y^2 - a1^3*a3^2*x + 4*a1^2*a2*a3^2*x - 4*a1*a2^2*a3^2*x + 2*a0*a1^2*a3*a4*x - 6*a0*a1*a2*a3*a4*x + 4*a0*a2^2*a3*a4*x - a0^2*a1*a4^2*x + 2*a0^2*a2*a4^2*x + a1*a2*a3*a4^2*x - a0*a2*a4^3*x - 2*a0*a1^2*a3*a5*x + 4*a0*a1*a2*a3*a5*x + 2*a0^2*a1*a4*a5*x - 4*a0^2*a2*a4*a5*x - a1^2*a3*a4*a5*x - 2*a1*a2*a3*a4*a5*x + a0*a1*a4^2*a5*x + 2*a0*a2*a4^2*a5*x + 2*a1^2*a3*a5^2*x - 2*a0*a1*a4*a5^2*x + a1^2*a2*a3*a4*y - 2*a1*a2^2*a3*a4*y - a0*a1*a2*a4^2*y + 2*a0*a2^2*a4^2*y + 2*a2^2*a3*a4^2*y - a2^2*a4^3*y - a1^3*a3*a5*y + 2*a1^2*a2*a3*a5*y + a0*a1^2*a4*a5*y - 2*a0*a1*a2*a4*a5*y - 2*a1*a2*a3*a4*a5*y - 4*a2^2*a3*a4*a5*y - 2*a0*a2*a4^2*a5*y + 2*a1*a2*a4^2*a5*y + 2*a2^2*a4^2*a5*y + 4*a1*a2*a3*a5^2*y + 2*a0*a1*a4*a5^2*y - a1^2*a4*a5^2*y + 4*a0*a2*a4*a5^2*y - 4*a1*a2*a4*a5^2*y - 4*a0*a1*a5^3*y + 2*a1^2*a5^3*y)/((a1*a3 - 2*a2*a3 - a0*a4 + a2*a4 + 2*a0*a5 - a1*a5)*(a2*a4 - a1*a5))\n"
     ]
    }
   ],
   "source": [
    "print Qt"
   ]
  },
  {
   "cell_type": "markdown",
   "metadata": {
    "deletable": true,
    "editable": true
   },
   "source": [
    "### A remark\n",
    "\n",
    "All of the above works fine as long as the denominators don't vanish, the linear system has non-zero determinat, and the quadratic equation has two different roots. Thus, the explicit *genericity assumptions* can be recovered from the above computations."
   ]
  }
 ],
 "metadata": {
  "kernelspec": {
   "display_name": "SageMath 8.1",
   "language": "",
   "name": "sagemath"
  },
  "language_info": {
   "codemirror_mode": {
    "name": "ipython",
    "version": 2
   },
   "file_extension": ".py",
   "mimetype": "text/x-python",
   "name": "python",
   "nbconvert_exporter": "python",
   "pygments_lexer": "ipython2",
   "version": "2.7.14"
  }
 },
 "nbformat": 4,
 "nbformat_minor": 2
}
